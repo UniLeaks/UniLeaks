{
 "cells": [
  {
   "cell_type": "markdown",
   "metadata": {},
   "source": [
    "# Cálculo promedio de remuneración UNRC\n",
    "\n",
    "Según datos oficiales extraídos del sistema de información de la UNRC y declaraciones públicas varias.\n",
    "\n",
    "Se extrae de **Recursos humanos UNRC**: [Estadísticas Sireh](https://sisinfo.unrc.edu.ar/estadisticas/estadisticas_sireh.php) la cantidad de personal clasificados según *categoría* y *horas semanales*:"
   ]
  },
  {
   "cell_type": "code",
   "execution_count": 1,
   "metadata": {},
   "outputs": [],
   "source": [
    "import matplotlib.pyplot as plt\n",
    "\n",
    "%matplotlib inline"
   ]
  },
  {
   "cell_type": "code",
   "execution_count": 2,
   "metadata": {},
   "outputs": [],
   "source": [
    "x = [10, 20, 20, 40, 40, 40]\n",
    "y = [418, 752, 40, 705, 43, 590]\n",
    "c = ['v', 'v', 'a', 'v', 'a', 'n']"
   ]
  },
  {
   "cell_type": "code",
   "execution_count": 14,
   "metadata": {},
   "outputs": [],
   "source": [
    "x = [10, 20, 20, 40, 40, 40]\n",
    "c = ['v', 'v', 'a', 'v', 'a', 'n']"
   ]
  },
  {
   "cell_type": "code",
   "execution_count": 46,
   "metadata": {},
   "outputs": [
    {
     "data": {
      "image/png": "[encoded data removed]",
      "text/plain": [
       "<Figure size 432x288 with 1 Axes>"
      ]
     },
     "metadata": {
      "needs_background": "light"
     },
     "output_type": "display_data"
    }
   ],
   "source": [
    "x = [0, 3, 4, 7, 8, 9]\n",
    "y = [418, 752, 40, 705, 43, 590]\n",
    "colors = ['green', 'green', 'blue', 'green', 'blue', 'orange']\n",
    "\n",
    "bars = plt.bar(x, y, color=colors)\n",
    "plt.xticks([0, 3.5, 8], [10, 20, 40])\n",
    "plt.yticks([40] + list(range(100, 800, 100)))\n",
    "plt.xlim(-1, 10)\n",
    "plt.xlabel('Cantidad de horas semanales')\n",
    "plt.ylabel('Cantidad de personas')\n",
    "plt.title('Recursos humanos UNRC')\n",
    "plt.legend([bars[0], bars[2], bars[-1]], ['Docente', 'Autoridad', 'No docente'])\n",
    "plt.hlines(40, -1, 7.6, linestyles='--', alpha=0.3)\n",
    "\n",
    "plt.savefig('plot.png', dpi=300)"
   ]
  },
  {
   "cell_type": "markdown",
   "metadata": {},
   "source": [
    "El sitio oficial de la UNRC **no publica** presupuesto para 2018, la última publicación al respecto data de 2016 *([Presupuesto UNRC](https://www.unrc.edu.ar/unrc/presupuesto.php))*. Una [noticia de puntal](http://www.puntal.com.ar/noticia/UNRC-el-presupuesto-para-2018-crece-25-y-llega-a--1.478-millones-20170920-0017.html) informa el monto de **$1.478** millones para el presupuesto 2018.\n",
    "\n",
    "Según declaraciones públicas de autoridades de la UNRC en una [nota](https://www.unrc.edu.ar/unrc/n_comp.cdc?nota=32358) en el sitio oficial: **\"*Los gastos de funcionamiento, que insumen entre el 10 y el 15 por ciento del presupuesto de la UNRC (el resto es para sueldos) fueron otro de los tópicos.*\"**\n",
    "\n",
    "Para un **82%** del presupuet"
   ]
  }
 ],
 "metadata": {
  "kernelspec": {
   "display_name": "Python 3",
   "language": "python",
   "name": "python3"
  },
  "language_info": {
   "codemirror_mode": {
    "name": "ipython",
    "version": 3
   },
   "file_extension": ".py",
   "mimetype": "text/x-python",
   "name": "python",
   "nbconvert_exporter": "python",
   "pygments_lexer": "ipython3",
   "version": "3.7.0"
  }
 },
 "nbformat": 4,
 "nbformat_minor": 2
}
